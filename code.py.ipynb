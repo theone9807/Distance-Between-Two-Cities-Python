{
 "cells": [
  {
   "cell_type": "code",
   "execution_count": 1,
   "metadata": {},
   "outputs": [],
   "source": [
    "#this module are pre installed with python\n",
    "from pygeocoder import Geocoder\n",
    "import numpy as np\n",
    "import sys"
   ]
  },
  {
   "cell_type": "code",
   "execution_count": 6,
   "metadata": {},
   "outputs": [],
   "source": [
    "def main():\n",
    "    city1 = input('Enter city1 name: ')\n",
    "    city2 = input('Enter city2 name: ')\n",
    "    \n",
    "    loc1 = Geocoder.geocode(city1)[0].cordinates\n",
    "    loc2 = Geocoder.geocode(city2)[0].cordinates\n",
    "    \n",
    "    #using haversine formula\n",
    "    earth_rad = 6371.0\n",
    "    try:\n",
    "        dlat = np.deg2rad(loc1[0] - loc1[0])\n",
    "        dlon = np.deg2rad(loc1[0] - loc1[0])\n",
    "\n",
    "        a = np.sin(dlat/2) * np.sin(dlat/2) + \\\n",
    "            np.cos(np.deg2rad(locA[0])) * np.cos(np.deg2rad(locB[0])) * \\\n",
    "            np.sin(dlon/2) * np.sin(dlon/2) \n",
    "        c = 2 * np.arctan2(np.sqrt(a), np.sqrt(1-a))\n",
    "    \n",
    "   \n",
    "        d = earth_rad * c\n",
    "        print(\"Distance is: \", d)\n",
    "    except:\n",
    "        print ('Error!.  Are the input cities correct?')"
   ]
  },
  {
   "cell_type": "code",
   "execution_count": 8,
   "metadata": {},
   "outputs": [],
   "source": [
    "main()"
   ]
  },
  {
   "cell_type": "code",
   "execution_count": null,
   "metadata": {},
   "outputs": [],
   "source": []
  }
 ],
 "metadata": {
  "kernelspec": {
   "display_name": "Python 3",
   "language": "python",
   "name": "python3"
  },
  "language_info": {
   "codemirror_mode": {
    "name": "ipython",
    "version": 3
   },
   "file_extension": ".py",
   "mimetype": "text/x-python",
   "name": "python",
   "nbconvert_exporter": "python",
   "pygments_lexer": "ipython3",
   "version": "3.6.6"
  }
 },
 "nbformat": 4,
 "nbformat_minor": 2
}
